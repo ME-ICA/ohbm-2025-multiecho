{
 "cells": [
  {
   "cell_type": "markdown",
   "metadata": {},
   "source": [
    "# Process five-echo flashing checkerboard dataset for software demo"
   ]
  },
  {
   "cell_type": "code",
   "execution_count": null,
   "metadata": {},
   "outputs": [],
   "source": [
    "%matplotlib inline\n",
    "import os\n",
    "import os.path as op\n",
    "from glob import glob\n",
    "import webbrowser\n",
    "\n",
    "from tedana.workflows import tedana_workflow"
   ]
  },
  {
   "cell_type": "markdown",
   "metadata": {},
   "source": [
    "## Download 5 echo data"
   ]
  },
  {
   "cell_type": "code",
   "execution_count": null,
   "metadata": {},
   "outputs": [],
   "source": [
    "%%time\n",
    "dset_dir5 = 'five-echo-dataset/'\n",
    "wd = os.getcwd()\n",
    "\n",
    "if not op.isdir(dset_dir5):\n",
    "    os.mkdir(dset_dir5)\n",
    "\n",
    "!curl -L -o five_echo_NIH.tar.xz https://osf.io/ea5v3/download\n",
    "!tar xf five_echo_NIH.tar.xz -C five-echo-dataset\n",
    "os.remove('five_echo_NIH.tar.xz')"
   ]
  },
  {
   "cell_type": "markdown",
   "metadata": {},
   "source": [
    "## Run workflow on 5 echo data"
   ]
  },
  {
   "cell_type": "code",
   "execution_count": null,
   "metadata": {},
   "outputs": [],
   "source": [
    "%%time\n",
    "dset_dir5_out = f\"{dset_dir5}tedana_processed\"\n",
    "files = sorted(glob(op.join(dset_dir5, 'p06*.nii.gz')))\n",
    "tes = [15.4, 29.7, 44.0, 58.3, 72.6]\n",
    "tedana_workflow(files, tes, \n",
    "    tree=\"minimal\",\n",
    "    fixed_seed=42,\n",
    "    ica_method=\"robustica\",\n",
    "    n_robust_runs=30,\n",
    "    tedpca=53,\n",
    "    out_dir=dset_dir5_out,\n",
    "    tedort=False\n",
    "    )"
   ]
  },
  {
   "cell_type": "markdown",
   "metadata": {},
   "source": [
    "## Open report for 5 echo data in web browser"
   ]
  },
  {
   "cell_type": "code",
   "execution_count": null,
   "metadata": {
    "scrolled": true
   },
   "outputs": [],
   "source": [
    "new = 2 # open in a new tab, if possible\n",
    "\n",
    "url = str(os.path.abspath(dset_dir5_out + '/tedana_report.html'))\n",
    "print(url)\n",
    "webbrowser.open(\"file://\" + url,new=new)\n"
   ]
  },
  {
   "cell_type": "markdown",
   "metadata": {},
   "source": [
    "### Time series generation using AFNI commands\n",
    "\n",
    "These commands won't run without AFNI,\n",
    "but the outputted external_regressors.tsv is in this repo\n",
    "along with the commands used to generate it.\n",
    "\n",
    "With AFNI installed, this can be run from within ohbm-2025-multiecho/five-echo-dataset\n",
    "\n",
    "```bash\n",
    "# A rough CSF mask for demonstration purposes\n",
    "# Segment the CSF, erode by 1 voxel, #\n",
    "# and retain voxels containing 75% of the CSF mask when downsampled to EPI space\n",
    "3dSeg -anat SBJ01_Anatomy.nii.gz -mask AUTO \\\n",
    "    -classes 'CSF ; GM ; WM'  \\\n",
    "    -bias_classes 'GM ; WM' \\\n",
    "    -bias_fwhm 25 -mixfrac UNI -main_N 5 \\\n",
    "    -blur_meth BFT\n",
    "3dcalc -a ./Segsy/Classes+tlrc -expr 'equals(a, 1)' -prefix CSF_anatresolution.nii.gz\n",
    "3dmask_tool -input CSF_anatresolution.nii.gz \\\n",
    "    -prefix CSF_eroded.nii.gz \\\n",
    "    -dilate_result -1 -fill_holes \n",
    "3dfractionize -template p06.SBJ01_S09_Task11_e3.sm.nii.gz \\\n",
    "    -prefix CSF_mask.nii.gz \\\n",
    "    -input CSF_eroded.nii.gz \\\n",
    "    -clip 0.75\n",
    "\n",
    "# make CSF principal components\n",
    "3dpc -mask CSF_mask.nii.gz -pcsave 3  \\\n",
    "    -prefix CSF_timeseries \\\n",
    "    ./tedana_processed/desc-optcom_bold.nii.gz\n",
    "\n",
    "# Combine all external regressors into a single file\n",
    "external_regress_header=\"mot_x\\tmot_y\\tmot_z\\tmot_pitch\\tmot_roll\\tmot_yaw\\t\"\\\n",
    "\"mot_dx\\tmot_dy\\tmot_dz\\tmot_dpitch\\tmot_droll\\tmot_dyaw\\tcsf1\\tcsf2\\tcsf3\\t\"\\\n",
    "\"signal_checkerboard\"\n",
    "1dcat -tsvout \\\n",
    "    SBJ01_S09_Task11_e2_Motion.demean.1D \\\n",
    "    SBJ01_S09_Task11_e2_Motion.demean.der.1D \\\n",
    "    CSF_timeseries0?.1D \\\n",
    "    block_task_response.1D \\\n",
    "    > tmp.tsv\n",
    "    (echo $external_regress_header; tail -n +2 tmp.tsv) > external_regressors.tsv \n",
    "```"
   ]
  },
  {
   "cell_type": "markdown",
   "metadata": {},
   "source": [
    "## Run workflow on 5 echo data using existing mixing matrix and external regressors"
   ]
  },
  {
   "cell_type": "code",
   "execution_count": null,
   "metadata": {},
   "outputs": [],
   "source": [
    "%%time\n",
    "dset_dir5_extern_out = f\"{dset_dir5}tedana_external_regress_processed\"\n",
    "files = sorted(glob(op.join(dset_dir5, 'p06*.nii.gz')))\n",
    "tes = [15.4, 29.7, 44.0, 58.3, 72.6]\n",
    "tedana_workflow(files, tes, \n",
    "    tree=\"demo_external_regressors_motion_task_models\",\n",
    "    external_regressors=op.join(dset_dir5,\"external_regressors.tsv\"),\n",
    "    mixing_file=op.join(dset_dir5,\"tedana_processed\", \"desc-ICA_mixing.tsv\"),\n",
    "    out_dir=dset_dir5_extern_out\n",
    "    )"
   ]
  },
  {
   "cell_type": "markdown",
   "metadata": {},
   "source": [
    "## Open report for 5 echo data with external regressors in web browser"
   ]
  },
  {
   "cell_type": "code",
   "execution_count": null,
   "metadata": {},
   "outputs": [],
   "source": [
    "new = 2 # open in a new tab, if possible\n",
    "\n",
    "url = str(os.path.abspath(dset_dir5_extern_out + '/tedana_report.html'))\n",
    "print(url)\n",
    "webbrowser.open(\"file://\" + url,new=new)"
   ]
  }
 ],
 "metadata": {
  "kernelspec": {
   "display_name": "Python 3",
   "language": "python",
   "name": "python3"
  },
  "language_info": {
   "codemirror_mode": {
    "name": "ipython",
    "version": 3
   },
   "file_extension": ".py",
   "mimetype": "text/x-python",
   "name": "python",
   "nbconvert_exporter": "python",
   "pygments_lexer": "ipython3",
   "version": "3.13.2"
  }
 },
 "nbformat": 4,
 "nbformat_minor": 2
}
